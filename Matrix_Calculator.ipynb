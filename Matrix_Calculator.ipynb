{
 "cells": [
  {
   "cell_type": "code",
   "execution_count": null,
   "id": "7f2bb3a4-47e2-44dd-b164-7b7ea2416922",
   "metadata": {},
   "outputs": [
    {
     "name": "stdout",
     "output_type": "stream",
     "text": [
      "\n",
      " === MATRIX CALCUALTOR ===\n",
      "1.Add matrices\n",
      "2.Subtract Matrices\n",
      "3.Multiply Matrices\n",
      "4.Dot Product of Matrices\n",
      "5.Transpose of Matrix\n",
      "6.Determinant\n",
      "7.Inverse\n",
      "8.Solve system Ax = B\n",
      "9.exit\n"
     ]
    },
    {
     "name": "stdin",
     "output_type": "stream",
     "text": [
      "Choose an operation (1-9): 3\n",
      "Enter number of rows for Matrix A: 2\n",
      "Enter number of cols for Matrix A: 2\n"
     ]
    },
    {
     "name": "stdout",
     "output_type": "stream",
     "text": [
      "Enter elements row wise (space-separated):\n"
     ]
    },
    {
     "name": "stdin",
     "output_type": "stream",
     "text": [
      " 1 2 3 4\n",
      "Enter number of rows for Matrix B: 2\n",
      "Enter number of cols for Matrix B: 2\n"
     ]
    },
    {
     "name": "stdout",
     "output_type": "stream",
     "text": [
      "Enter elements row wise (space-separated):\n"
     ]
    },
    {
     "name": "stdin",
     "output_type": "stream",
     "text": [
      " 4 5 7 8\n"
     ]
    },
    {
     "name": "stdout",
     "output_type": "stream",
     "text": [
      "Result:\n",
      " [[ 4. 10.]\n",
      " [21. 32.]]\n",
      "\n",
      " === MATRIX CALCUALTOR ===\n",
      "1.Add matrices\n",
      "2.Subtract Matrices\n",
      "3.Multiply Matrices\n",
      "4.Dot Product of Matrices\n",
      "5.Transpose of Matrix\n",
      "6.Determinant\n",
      "7.Inverse\n",
      "8.Solve system Ax = B\n",
      "9.exit\n"
     ]
    },
    {
     "name": "stdin",
     "output_type": "stream",
     "text": [
      "Choose an operation (1-9): 1\n",
      "Enter number of rows for Matrix A: 2\n",
      "Enter number of cols for Matrix A: 2\n"
     ]
    },
    {
     "name": "stdout",
     "output_type": "stream",
     "text": [
      "Enter elements row wise (space-separated):\n"
     ]
    },
    {
     "name": "stdin",
     "output_type": "stream",
     "text": [
      " 2 5 6 9\n",
      "Enter number of rows for Matrix B: 2\n",
      "Enter number of cols for Matrix B: 2\n"
     ]
    },
    {
     "name": "stdout",
     "output_type": "stream",
     "text": [
      "Enter elements row wise (space-separated):\n"
     ]
    },
    {
     "name": "stdin",
     "output_type": "stream",
     "text": [
      " 8 5 7 9\n"
     ]
    },
    {
     "name": "stdout",
     "output_type": "stream",
     "text": [
      "Result:\n",
      " [[10. 10.]\n",
      " [13. 18.]]\n",
      "\n",
      " === MATRIX CALCUALTOR ===\n",
      "1.Add matrices\n",
      "2.Subtract Matrices\n",
      "3.Multiply Matrices\n",
      "4.Dot Product of Matrices\n",
      "5.Transpose of Matrix\n",
      "6.Determinant\n",
      "7.Inverse\n",
      "8.Solve system Ax = B\n",
      "9.exit\n"
     ]
    }
   ],
   "source": [
    "# WE ARE GOING TO MAKE A MATRIX CALCULATOR \n",
    "#WE WILL USE DIFFERENT OPERATIONS ON MATRIX \n",
    "#STEP 1 . INPUT FUNCTION \n",
    "import numpy as np \n",
    "def get_matrix(prompt):\n",
    "    rows= int(input(f\"Enter number of rows for {prompt}:\")) \n",
    "    coloumns = int(input(f\"Enter number of cols for {prompt}:\"))\n",
    "    print(f\"Enter elements row wise (space-separated):\")\n",
    "    elements = list(map(float,input().split()))\n",
    "    matrix =np.array(elements).reshape(rows,coloumns)\n",
    "    return matrix\n",
    "# menu options \n",
    "def display_menu():\n",
    "    print(\"\\n === MATRIX CALCUALTOR ===\")\n",
    "    print(\"1.Add matrices\")\n",
    "    print(\"2.Subtract Matrices\")\n",
    "    print(\"3.Multiply Matrices\")\n",
    "    print(\"4.Dot Product of Matrices\")\n",
    "    print(\"5.Transpose of Matrix\")\n",
    "    print(\"6.Determinant\")\n",
    "    print(\"7.Inverse\")\n",
    "    print(\"8.Solve system Ax = B\")\n",
    "    print(\"9.exit\")\n",
    "\n",
    "#MAIN CALCULATOR LOOP \n",
    "while True:\n",
    "    display_menu()\n",
    "    choice = input(\"Choose an operation (1-9):\")\n",
    "    if choice in ['1','2','3','4']:\n",
    "        A =get_matrix(\"Matrix A\")\n",
    "        B =get_matrix(\"Matrix B\")\n",
    "        try:\n",
    "            if choice== '1':\n",
    "                print(\"Result:\\n\" ,A+B)\n",
    "            elif choice =='2':\n",
    "                print(\"Result:\\n\",A-B)\n",
    "            elif choice == '3':\n",
    "                print(\"Result:\\n\" , A*B)\n",
    "            elif choice == '4':\n",
    "                print(\"Result:\\n\" ,np.dot(A,B))\n",
    "        except Exception as e:\n",
    "            print(\"Error\",e)\n",
    "    elif choice =='5':\n",
    "        A = get_matrix(\"Matrix\")\n",
    "        print(\"Transpose:\\n\",A.T)\n",
    "    elif choice == '6':\n",
    "        A = get_matrix(\" Square Matrix\")\n",
    "        try:\n",
    "            print(\"Determinant:\\n\",np.linalg.det(A))\n",
    "        except Exception as e: \n",
    "            print(\"error:\", e)\n",
    "    elif choice =='7':\n",
    "        A = get_matrix(\"Sqaure matrix\")\n",
    "        try:\n",
    "            inv = np.linalg.inv(A)\n",
    "            print(\"Inverse:\\n\", inv)\n",
    "        except Exception as e:\n",
    "            print(\"Matrix may not be Invertible:\", e)\n",
    "    elif choice == '8': \n",
    "        print(\"Solving Ax =B\")\n",
    "        A =get_matrix(\"Matrix A (Cofficients)\")\n",
    "        B =get_matrix(\"Matrix B (Constants)\")\n",
    "        try:\n",
    "            x =np.linalg.solve(A,B)\n",
    "            print(\"Solution:\\n\",x)\n",
    "        except Exception as e:\n",
    "            print(\"Error:\",e)\n",
    "    elif choice =='9':\n",
    "        print(\"Exiting...\")\n",
    "        break\n",
    "    else:\n",
    "        print(\"Invalid Choice. Please Try Again\")\n",
    "        "
   ]
  },
  {
   "cell_type": "code",
   "execution_count": null,
   "id": "75bb0768-2f6a-4418-95e5-259037409006",
   "metadata": {},
   "outputs": [],
   "source": []
  }
 ],
 "metadata": {
  "kernelspec": {
   "display_name": "Python 3 (ipykernel)",
   "language": "python",
   "name": "python3"
  },
  "language_info": {
   "codemirror_mode": {
    "name": "ipython",
    "version": 3
   },
   "file_extension": ".py",
   "mimetype": "text/x-python",
   "name": "python",
   "nbconvert_exporter": "python",
   "pygments_lexer": "ipython3",
   "version": "3.11.7"
  }
 },
 "nbformat": 4,
 "nbformat_minor": 5
}
